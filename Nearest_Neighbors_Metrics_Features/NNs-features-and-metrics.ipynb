{
 "cells": [
  {
   "cell_type": "markdown",
   "metadata": {},
   "source": [
    "# Nearest Neighbors\n",
    "\n",
    "* Gain intuition for different notions of similarity and practice finding similar documents. \n",
    "* Explore the tradeoffs with representing documents using raw word counts and TF-IDF\n",
    "* Explore the behavior of different distance metrics by looking at the Wikipedia pages most similar to President Obama’s page."
   ]
  },
  {
   "cell_type": "markdown",
   "metadata": {},
   "source": [
    "## Import libraries"
   ]
  },
  {
   "cell_type": "code",
   "execution_count": 3,
   "metadata": {
    "collapsed": true
   },
   "outputs": [],
   "source": [
    "import matplotlib.pyplot as plt\n",
    "%matplotlib inline\n",
    "from scipy.sparse import csr_matrix      # sparse matrices\n",
    "import numpy as np"
   ]
  },
  {
   "cell_type": "code",
   "execution_count": 5,
   "metadata": {
    "collapsed": true
   },
   "outputs": [],
   "source": [
    "## Load Wikipedia dataset\n",
    "import pandas as pd\n",
    "wiki = pd.read_csv('people_wiki.csv')"
   ]
  },
  {
   "cell_type": "code",
   "execution_count": 9,
   "metadata": {},
   "outputs": [
    {
     "data": {
      "text/html": [
       "<div>\n",
       "<style>\n",
       "    .dataframe thead tr:only-child th {\n",
       "        text-align: right;\n",
       "    }\n",
       "\n",
       "    .dataframe thead th {\n",
       "        text-align: left;\n",
       "    }\n",
       "\n",
       "    .dataframe tbody tr th {\n",
       "        vertical-align: top;\n",
       "    }\n",
       "</style>\n",
       "<table border=\"1\" class=\"dataframe\">\n",
       "  <thead>\n",
       "    <tr style=\"text-align: right;\">\n",
       "      <th></th>\n",
       "      <th>URI</th>\n",
       "      <th>name</th>\n",
       "      <th>text</th>\n",
       "    </tr>\n",
       "  </thead>\n",
       "  <tbody>\n",
       "    <tr>\n",
       "      <th>0</th>\n",
       "      <td>&lt;http://dbpedia.org/resource/Digby_Morrell&gt;</td>\n",
       "      <td>Digby Morrell</td>\n",
       "      <td>digby morrell born 10 october 1979 is a former...</td>\n",
       "    </tr>\n",
       "    <tr>\n",
       "      <th>1</th>\n",
       "      <td>&lt;http://dbpedia.org/resource/Alfred_J._Lewy&gt;</td>\n",
       "      <td>Alfred J. Lewy</td>\n",
       "      <td>alfred j lewy aka sandy lewy graduated from un...</td>\n",
       "    </tr>\n",
       "  </tbody>\n",
       "</table>\n",
       "</div>"
      ],
      "text/plain": [
       "                                            URI            name  \\\n",
       "0   <http://dbpedia.org/resource/Digby_Morrell>   Digby Morrell   \n",
       "1  <http://dbpedia.org/resource/Alfred_J._Lewy>  Alfred J. Lewy   \n",
       "\n",
       "                                                text  \n",
       "0  digby morrell born 10 october 1979 is a former...  \n",
       "1  alfred j lewy aka sandy lewy graduated from un...  "
      ]
     },
     "execution_count": 9,
     "metadata": {},
     "output_type": "execute_result"
    }
   ],
   "source": [
    "wiki.head(2)"
   ]
  },
  {
   "cell_type": "code",
   "execution_count": 10,
   "metadata": {},
   "outputs": [
    {
     "data": {
      "text/plain": [
       "(59071, 3)"
      ]
     },
     "execution_count": 10,
     "metadata": {},
     "output_type": "execute_result"
    }
   ],
   "source": [
    "wiki.shape"
   ]
  },
  {
   "cell_type": "code",
   "execution_count": 8,
   "metadata": {
    "collapsed": true
   },
   "outputs": [],
   "source": [
    "wiki['text'] = wiki['text'].apply(lambda review: review.lower())"
   ]
  },
  {
   "cell_type": "code",
   "execution_count": 11,
   "metadata": {
    "collapsed": true
   },
   "outputs": [],
   "source": [
    "def load_sparse_csr(filename):\n",
    "    loader = np.load(filename)\n",
    "    data = loader['data']\n",
    "    indices = loader['indices']\n",
    "    indptr = loader['indptr']\n",
    "    shape = loader['shape']\n",
    "    \n",
    "    return csr_matrix( (data, indices, indptr), shape)"
   ]
  },
  {
   "cell_type": "code",
   "execution_count": 12,
   "metadata": {
    "collapsed": true
   },
   "outputs": [],
   "source": [
    "word_count = load_sparse_csr('people_wiki_word_count.npz')"
   ]
  },
  {
   "cell_type": "code",
   "execution_count": 14,
   "metadata": {},
   "outputs": [
    {
     "data": {
      "text/plain": [
       "(59071, 547979)"
      ]
     },
     "execution_count": 14,
     "metadata": {},
     "output_type": "execute_result"
    }
   ],
   "source": [
    "word_count.shape"
   ]
  },
  {
   "cell_type": "markdown",
   "metadata": {},
   "source": [
    "## Find nearest neighbors using word count vectors"
   ]
  },
  {
   "cell_type": "code",
   "execution_count": 15,
   "metadata": {},
   "outputs": [
    {
     "data": {
      "text/plain": [
       "NearestNeighbors(algorithm='brute', leaf_size=30, metric='euclidean',\n",
       "         metric_params=None, n_jobs=1, n_neighbors=5, p=2, radius=1.0)"
      ]
     },
     "execution_count": 15,
     "metadata": {},
     "output_type": "execute_result"
    }
   ],
   "source": [
    "from sklearn.neighbors import NearestNeighbors\n",
    "\n",
    "model = NearestNeighbors(metric='euclidean', algorithm='brute')\n",
    "model.fit(word_count)"
   ]
  },
  {
   "cell_type": "code",
   "execution_count": 16,
   "metadata": {},
   "outputs": [
    {
     "name": "stdout",
     "output_type": "stream",
     "text": [
      "                                              URI          name  \\\n",
      "35817  <http://dbpedia.org/resource/Barack_Obama>  Barack Obama   \n",
      "\n",
      "                                                    text  \n",
      "35817  barack hussein obama ii brk husen bm born augu...  \n"
     ]
    }
   ],
   "source": [
    "print(wiki[wiki['name'] == 'Barack Obama'])"
   ]
  },
  {
   "cell_type": "code",
   "execution_count": 18,
   "metadata": {},
   "outputs": [],
   "source": [
    "distances, indices = model.kneighbors(word_count[35817], n_neighbors=10) # 1st arg: word count vector"
   ]
  },
  {
   "cell_type": "code",
   "execution_count": null,
   "metadata": {
    "collapsed": true
   },
   "outputs": [],
   "source": []
  },
  {
   "cell_type": "code",
   "execution_count": 212,
   "metadata": {},
   "outputs": [
    {
     "data": {
      "text/plain": [
       "[array([  0.        ,  33.07567082,  34.39476704,  36.15245497,\n",
       "         36.16628264,  36.33180425,  36.40054945,  36.49657518,\n",
       "         36.63331817,  36.95943723])]"
      ]
     },
     "execution_count": 212,
     "metadata": {},
     "output_type": "execute_result"
    }
   ],
   "source": [
    "list(distances[0:10])"
   ]
  },
  {
   "cell_type": "code",
   "execution_count": 29,
   "metadata": {},
   "outputs": [
    {
     "data": {
      "text/html": [
       "<div>\n",
       "<style>\n",
       "    .dataframe thead tr:only-child th {\n",
       "        text-align: right;\n",
       "    }\n",
       "\n",
       "    .dataframe thead th {\n",
       "        text-align: left;\n",
       "    }\n",
       "\n",
       "    .dataframe tbody tr th {\n",
       "        vertical-align: top;\n",
       "    }\n",
       "</style>\n",
       "<table border=\"1\" class=\"dataframe\">\n",
       "  <thead>\n",
       "    <tr style=\"text-align: right;\">\n",
       "      <th></th>\n",
       "      <th>URI</th>\n",
       "      <th>name</th>\n",
       "      <th>text</th>\n",
       "    </tr>\n",
       "  </thead>\n",
       "  <tbody>\n",
       "    <tr>\n",
       "      <th>35817</th>\n",
       "      <td>&lt;http://dbpedia.org/resource/Barack_Obama&gt;</td>\n",
       "      <td>Barack Obama</td>\n",
       "      <td>barack hussein obama ii brk husen bm born augu...</td>\n",
       "    </tr>\n",
       "    <tr>\n",
       "      <th>24478</th>\n",
       "      <td>&lt;http://dbpedia.org/resource/Joe_Biden&gt;</td>\n",
       "      <td>Joe Biden</td>\n",
       "      <td>joseph robinette joe biden jr dosf rbnt badn b...</td>\n",
       "    </tr>\n",
       "    <tr>\n",
       "      <th>28447</th>\n",
       "      <td>&lt;http://dbpedia.org/resource/George_W._Bush&gt;</td>\n",
       "      <td>George W. Bush</td>\n",
       "      <td>george walker bush born july 6 1946 is an amer...</td>\n",
       "    </tr>\n",
       "    <tr>\n",
       "      <th>35357</th>\n",
       "      <td>&lt;http://dbpedia.org/resource/Lawrence_Summers&gt;</td>\n",
       "      <td>Lawrence Summers</td>\n",
       "      <td>lawrence henry larry summers born november 30 ...</td>\n",
       "    </tr>\n",
       "    <tr>\n",
       "      <th>14754</th>\n",
       "      <td>&lt;http://dbpedia.org/resource/Mitt_Romney&gt;</td>\n",
       "      <td>Mitt Romney</td>\n",
       "      <td>willard mitt romney born march 12 1947 is an a...</td>\n",
       "    </tr>\n",
       "    <tr>\n",
       "      <th>13229</th>\n",
       "      <td>&lt;http://dbpedia.org/resource/Francisco_Barrio&gt;</td>\n",
       "      <td>Francisco Barrio</td>\n",
       "      <td>francisco javier barrio terrazas born november...</td>\n",
       "    </tr>\n",
       "    <tr>\n",
       "      <th>31423</th>\n",
       "      <td>&lt;http://dbpedia.org/resource/Walter_Mondale&gt;</td>\n",
       "      <td>Walter Mondale</td>\n",
       "      <td>walter frederick fritz mondale born january 5 ...</td>\n",
       "    </tr>\n",
       "    <tr>\n",
       "      <th>22745</th>\n",
       "      <td>&lt;http://dbpedia.org/resource/Wynn_Normington_H...</td>\n",
       "      <td>Wynn Normington Hugh-Jones</td>\n",
       "      <td>sir wynn normington hughjones kb sometimes kno...</td>\n",
       "    </tr>\n",
       "    <tr>\n",
       "      <th>36364</th>\n",
       "      <td>&lt;http://dbpedia.org/resource/Don_Bonker&gt;</td>\n",
       "      <td>Don Bonker</td>\n",
       "      <td>don leroy bonker born march 7 1937 in denver c...</td>\n",
       "    </tr>\n",
       "    <tr>\n",
       "      <th>9210</th>\n",
       "      <td>&lt;http://dbpedia.org/resource/Andy_Anstett&gt;</td>\n",
       "      <td>Andy Anstett</td>\n",
       "      <td>andrue john andy anstett born june 25 1946 is ...</td>\n",
       "    </tr>\n",
       "  </tbody>\n",
       "</table>\n",
       "</div>"
      ],
      "text/plain": [
       "                                                     URI  \\\n",
       "35817         <http://dbpedia.org/resource/Barack_Obama>   \n",
       "24478            <http://dbpedia.org/resource/Joe_Biden>   \n",
       "28447       <http://dbpedia.org/resource/George_W._Bush>   \n",
       "35357     <http://dbpedia.org/resource/Lawrence_Summers>   \n",
       "14754          <http://dbpedia.org/resource/Mitt_Romney>   \n",
       "13229     <http://dbpedia.org/resource/Francisco_Barrio>   \n",
       "31423       <http://dbpedia.org/resource/Walter_Mondale>   \n",
       "22745  <http://dbpedia.org/resource/Wynn_Normington_H...   \n",
       "36364           <http://dbpedia.org/resource/Don_Bonker>   \n",
       "9210          <http://dbpedia.org/resource/Andy_Anstett>   \n",
       "\n",
       "                             name  \\\n",
       "35817                Barack Obama   \n",
       "24478                   Joe Biden   \n",
       "28447              George W. Bush   \n",
       "35357            Lawrence Summers   \n",
       "14754                 Mitt Romney   \n",
       "13229            Francisco Barrio   \n",
       "31423              Walter Mondale   \n",
       "22745  Wynn Normington Hugh-Jones   \n",
       "36364                  Don Bonker   \n",
       "9210                 Andy Anstett   \n",
       "\n",
       "                                                    text  \n",
       "35817  barack hussein obama ii brk husen bm born augu...  \n",
       "24478  joseph robinette joe biden jr dosf rbnt badn b...  \n",
       "28447  george walker bush born july 6 1946 is an amer...  \n",
       "35357  lawrence henry larry summers born november 30 ...  \n",
       "14754  willard mitt romney born march 12 1947 is an a...  \n",
       "13229  francisco javier barrio terrazas born november...  \n",
       "31423  walter frederick fritz mondale born january 5 ...  \n",
       "22745  sir wynn normington hughjones kb sometimes kno...  \n",
       "36364  don leroy bonker born march 7 1937 in denver c...  \n",
       "9210   andrue john andy anstett born june 25 1946 is ...  "
      ]
     },
     "execution_count": 29,
     "metadata": {},
     "output_type": "execute_result"
    }
   ],
   "source": [
    "wiki.iloc[indices[0]]"
   ]
  },
  {
   "cell_type": "markdown",
   "metadata": {},
   "source": [
    "All of the 10 people are politicians, but about half of them have rather tenuous connections with Obama, other than the fact that they are politicians.\n",
    "\n",
    "* Francisco Barrio is a Mexican politician, and a former governor of Chihuahua.\n",
    "* Walter Mondale and Don Bonker are Democrats who made their career in late 1970s.\n",
    "* Wynn Normington Hugh-Jones is a former British diplomat and Liberal Party official.\n",
    "* Andy Anstett is a former politician in Manitoba, Canada.\n",
    "\n",
    "Nearest neighbors with raw word counts got some things right, showing all politicians in the query result, but missed finer and important details."
   ]
  },
  {
   "cell_type": "code",
   "execution_count": 34,
   "metadata": {
    "collapsed": true
   },
   "outputs": [],
   "source": [
    "import json\n",
    "with open('people_wiki_map_index_to_word.json', 'r') as f: \n",
    "    map_index_to_word = json.load(f)\n",
    "# important_words = [str(s) for s in important_words]"
   ]
  },
  {
   "cell_type": "code",
   "execution_count": 36,
   "metadata": {},
   "outputs": [
    {
     "data": {
      "text/plain": [
       "547979"
      ]
     },
     "execution_count": 36,
     "metadata": {},
     "output_type": "execute_result"
    }
   ],
   "source": [
    "len(map_index_to_word)"
   ]
  },
  {
   "cell_type": "code",
   "execution_count": 43,
   "metadata": {},
   "outputs": [],
   "source": [
    "def unpack_dict(matrix, map_index_to_word):\n",
    "    table = sorted(map_index_to_word, key=map_index_to_word.get)    \n",
    "    data = matrix.data\n",
    "    indices = matrix.indices\n",
    "    indptr = matrix.indptr\n",
    "    \n",
    "    num_doc = matrix.shape[0]\n",
    "\n",
    "    return [{k:v for k,v in zip([table[word_id] for word_id in indices[indptr[i]:indptr[i+1]] ],\n",
    "                                 data[indptr[i]:indptr[i+1]].tolist())} \\\n",
    "               for i in range(num_doc) ]\n",
    "\n",
    "wiki['word_count'] = unpack_dict(word_count, map_index_to_word)"
   ]
  },
  {
   "cell_type": "code",
   "execution_count": 178,
   "metadata": {},
   "outputs": [
    {
     "data": {
      "text/plain": [
       "[('the', 40),\n",
       " ('in', 30),\n",
       " ('and', 21),\n",
       " ('of', 18),\n",
       " ('to', 14),\n",
       " ('his', 11),\n",
       " ('obama', 9),\n",
       " ('act', 8),\n",
       " ('he', 7),\n",
       " ('a', 7)]"
      ]
     },
     "execution_count": 178,
     "metadata": {},
     "output_type": "execute_result"
    }
   ],
   "source": [
    "import operator\n",
    "from operator import itemgetter, attrgetter\n",
    "def top_words(name):\n",
    "    \"\"\"\n",
    "    Get a table of the most frequent words in the given person's wikipedia page.\n",
    "    \"\"\"\n",
    "    row = wiki[wiki['name'] == name]\n",
    "    #print(row.dtypes)\n",
    "    #print(row['word_count'])\n",
    "    #word_count_table = row[['word_count']].stack()\n",
    "    row = row['word_count'].values[0]\n",
    "    #word_count_table = row['word_count'].to_dict()\n",
    "    #dc_sort = sorted(obama_words.items(),key = itemgetter(1),reverse = True)\n",
    "\n",
    "    return sorted(row.items(), key=itemgetter(1), reverse=True)\n",
    "\n",
    "obama_words = top_words('Barack Obama')\n",
    "obama_words[0:10]"
   ]
  },
  {
   "cell_type": "code",
   "execution_count": 184,
   "metadata": {},
   "outputs": [],
   "source": [
    "barrio_words = top_words('Francisco Barrio')\n",
    "barrio_words = pd.DataFrame(barrio_words, columns = ['word','count'])"
   ]
  },
  {
   "cell_type": "code",
   "execution_count": 379,
   "metadata": {},
   "outputs": [],
   "source": [
    "# change dist to dataFra\n",
    "obama_words = top_words('Barack Obama')\n",
    "obama_words = pd.DataFrame(obama_words, columns = ['word','count'])\n",
    "\n",
    "bush_words = top_words('George W. Bush')\n",
    "bush_words = pd.DataFrame(bush_words, columns = ['word','count'])"
   ]
  },
  {
   "cell_type": "code",
   "execution_count": 380,
   "metadata": {},
   "outputs": [],
   "source": [
    "combined_bush_obama_words = pd.DataFrame.merge(obama_words, bush_words, on='word')\n",
    "\n",
    "combined_words = pd.DataFrame.merge(obama_words, barrio_words, on='word')\n",
    "\n",
    "combined_words.head(2)\n",
    "combined_words.columns = ['word', 'Obama_count','Barrio_words']"
   ]
  },
  {
   "cell_type": "code",
   "execution_count": 381,
   "metadata": {},
   "outputs": [
    {
     "data": {
      "text/html": [
       "<div>\n",
       "<style>\n",
       "    .dataframe thead tr:only-child th {\n",
       "        text-align: right;\n",
       "    }\n",
       "\n",
       "    .dataframe thead th {\n",
       "        text-align: left;\n",
       "    }\n",
       "\n",
       "    .dataframe tbody tr th {\n",
       "        vertical-align: top;\n",
       "    }\n",
       "</style>\n",
       "<table border=\"1\" class=\"dataframe\">\n",
       "  <thead>\n",
       "    <tr style=\"text-align: right;\">\n",
       "      <th></th>\n",
       "      <th>word</th>\n",
       "      <th>count_x</th>\n",
       "      <th>count_y</th>\n",
       "    </tr>\n",
       "  </thead>\n",
       "  <tbody>\n",
       "    <tr>\n",
       "      <th>0</th>\n",
       "      <td>the</td>\n",
       "      <td>40</td>\n",
       "      <td>39</td>\n",
       "    </tr>\n",
       "    <tr>\n",
       "      <th>1</th>\n",
       "      <td>in</td>\n",
       "      <td>30</td>\n",
       "      <td>22</td>\n",
       "    </tr>\n",
       "    <tr>\n",
       "      <th>2</th>\n",
       "      <td>and</td>\n",
       "      <td>21</td>\n",
       "      <td>14</td>\n",
       "    </tr>\n",
       "    <tr>\n",
       "      <th>3</th>\n",
       "      <td>of</td>\n",
       "      <td>18</td>\n",
       "      <td>14</td>\n",
       "    </tr>\n",
       "    <tr>\n",
       "      <th>4</th>\n",
       "      <td>to</td>\n",
       "      <td>14</td>\n",
       "      <td>11</td>\n",
       "    </tr>\n",
       "    <tr>\n",
       "      <th>5</th>\n",
       "      <td>his</td>\n",
       "      <td>11</td>\n",
       "      <td>6</td>\n",
       "    </tr>\n",
       "    <tr>\n",
       "      <th>6</th>\n",
       "      <td>act</td>\n",
       "      <td>8</td>\n",
       "      <td>3</td>\n",
       "    </tr>\n",
       "    <tr>\n",
       "      <th>7</th>\n",
       "      <td>he</td>\n",
       "      <td>7</td>\n",
       "      <td>8</td>\n",
       "    </tr>\n",
       "    <tr>\n",
       "      <th>8</th>\n",
       "      <td>a</td>\n",
       "      <td>7</td>\n",
       "      <td>6</td>\n",
       "    </tr>\n",
       "    <tr>\n",
       "      <th>9</th>\n",
       "      <td>law</td>\n",
       "      <td>6</td>\n",
       "      <td>1</td>\n",
       "    </tr>\n",
       "  </tbody>\n",
       "</table>\n",
       "</div>"
      ],
      "text/plain": [
       "  word  count_x  count_y\n",
       "0  the       40       39\n",
       "1   in       30       22\n",
       "2  and       21       14\n",
       "3   of       18       14\n",
       "4   to       14       11\n",
       "5  his       11        6\n",
       "6  act        8        3\n",
       "7   he        7        8\n",
       "8    a        7        6\n",
       "9  law        6        1"
      ]
     },
     "execution_count": 381,
     "metadata": {},
     "output_type": "execute_result"
    }
   ],
   "source": [
    "combined_bush_obama_words[0:10]"
   ]
  },
  {
   "cell_type": "code",
   "execution_count": 275,
   "metadata": {},
   "outputs": [
    {
     "data": {
      "text/html": [
       "<div>\n",
       "<style>\n",
       "    .dataframe thead tr:only-child th {\n",
       "        text-align: right;\n",
       "    }\n",
       "\n",
       "    .dataframe thead th {\n",
       "        text-align: left;\n",
       "    }\n",
       "\n",
       "    .dataframe tbody tr th {\n",
       "        vertical-align: top;\n",
       "    }\n",
       "</style>\n",
       "<table border=\"1\" class=\"dataframe\">\n",
       "  <thead>\n",
       "    <tr style=\"text-align: right;\">\n",
       "      <th></th>\n",
       "      <th>word</th>\n",
       "      <th>Obama_count</th>\n",
       "      <th>Barrio_words</th>\n",
       "    </tr>\n",
       "  </thead>\n",
       "  <tbody>\n",
       "    <tr>\n",
       "      <th>0</th>\n",
       "      <td>the</td>\n",
       "      <td>40</td>\n",
       "      <td>36</td>\n",
       "    </tr>\n",
       "    <tr>\n",
       "      <th>1</th>\n",
       "      <td>in</td>\n",
       "      <td>30</td>\n",
       "      <td>17</td>\n",
       "    </tr>\n",
       "    <tr>\n",
       "      <th>2</th>\n",
       "      <td>and</td>\n",
       "      <td>21</td>\n",
       "      <td>18</td>\n",
       "    </tr>\n",
       "    <tr>\n",
       "      <th>3</th>\n",
       "      <td>of</td>\n",
       "      <td>18</td>\n",
       "      <td>24</td>\n",
       "    </tr>\n",
       "    <tr>\n",
       "      <th>4</th>\n",
       "      <td>to</td>\n",
       "      <td>14</td>\n",
       "      <td>9</td>\n",
       "    </tr>\n",
       "    <tr>\n",
       "      <th>5</th>\n",
       "      <td>his</td>\n",
       "      <td>11</td>\n",
       "      <td>5</td>\n",
       "    </tr>\n",
       "    <tr>\n",
       "      <th>6</th>\n",
       "      <td>he</td>\n",
       "      <td>7</td>\n",
       "      <td>10</td>\n",
       "    </tr>\n",
       "    <tr>\n",
       "      <th>7</th>\n",
       "      <td>a</td>\n",
       "      <td>7</td>\n",
       "      <td>6</td>\n",
       "    </tr>\n",
       "    <tr>\n",
       "      <th>8</th>\n",
       "      <td>as</td>\n",
       "      <td>6</td>\n",
       "      <td>5</td>\n",
       "    </tr>\n",
       "    <tr>\n",
       "      <th>9</th>\n",
       "      <td>was</td>\n",
       "      <td>5</td>\n",
       "      <td>4</td>\n",
       "    </tr>\n",
       "  </tbody>\n",
       "</table>\n",
       "</div>"
      ],
      "text/plain": [
       "  word  Obama_count  Barrio_words\n",
       "0  the           40            36\n",
       "1   in           30            17\n",
       "2  and           21            18\n",
       "3   of           18            24\n",
       "4   to           14             9\n",
       "5  his           11             5\n",
       "6   he            7            10\n",
       "7    a            7             6\n",
       "8   as            6             5\n",
       "9  was            5             4"
      ]
     },
     "execution_count": 275,
     "metadata": {},
     "output_type": "execute_result"
    }
   ],
   "source": [
    "combined_words.head(10)"
   ]
  },
  {
   "cell_type": "markdown",
   "metadata": {},
   "source": [
    "### How many of the articles in the Wikipedia dataset contain all of those 5 words?\n",
    "```\n",
    "set(common_words)\n",
    "```\n",
    "    where `common_words` is a Python list. See [this link](https://docs.python.org/2/library/stdtypes.html#set) if you're curious about Python sets.\n",
    "  - Extract the list of keys of the word count dictionary by calling the [`keys()` method](https://docs.python.org/2/library/stdtypes.html#dict.keys).\n",
    "  - Convert the list of keys into a set as well.\n",
    "  - Use [`issubset()` method](https://docs.python.org/2/library/stdtypes.html#set) to check if all 5 words are among the keys.\n",
    "* Now apply the `has_top_words` function on every row of the SFrame.\n",
    "* Compute the sum of the result column to obtain the number of articles containing all the 5 top words."
   ]
  },
  {
   "cell_type": "code",
   "execution_count": 202,
   "metadata": {},
   "outputs": [
    {
     "data": {
      "text/plain": [
       "{'and', 'in', 'of', 'the', 'to'}"
      ]
     },
     "execution_count": 202,
     "metadata": {},
     "output_type": "execute_result"
    }
   ],
   "source": [
    "common_words = set(combined_words['word'][0:5])\n",
    "common_words"
   ]
  },
  {
   "cell_type": "code",
   "execution_count": 204,
   "metadata": {},
   "outputs": [
    {
     "data": {
      "text/plain": [
       "56066"
      ]
     },
     "execution_count": 204,
     "metadata": {},
     "output_type": "execute_result"
    }
   ],
   "source": [
    "def has_top_words(word_count_vector):\n",
    "    # extract the keys of word_count_vector and convert it to a set\n",
    "    unique_words = set(word_count_vector)\n",
    "    # return True if common_words is a subset of unique_words\n",
    "    # return False otherwise\n",
    "    return common_words.issubset(unique_words)\n",
    "\n",
    "wiki['has_top_words'] = wiki['word_count'].apply(has_top_words)\n",
    "(wiki['has_top_words'] == True).sum()"
   ]
  },
  {
   "cell_type": "code",
   "execution_count": 205,
   "metadata": {},
   "outputs": [
    {
     "data": {
      "text/plain": [
       "3005"
      ]
     },
     "execution_count": 205,
     "metadata": {},
     "output_type": "execute_result"
    }
   ],
   "source": [
    "(wiki['has_top_words'] != True).sum()"
   ]
  },
  {
   "cell_type": "code",
   "execution_count": 210,
   "metadata": {},
   "outputs": [
    {
     "name": "stdout",
     "output_type": "stream",
     "text": [
      "Output from your function: True\n",
      "Correct output: True\n",
      "167\n",
      "Also check the length of unique_words. It should be 167\n"
     ]
    }
   ],
   "source": [
    "print ('Output from your function:', has_top_words(wiki.iloc[32]['word_count']))\n",
    "print ('Correct output: True')\n",
    "print(len(set(wiki.iloc[32]['word_count'])))\n",
    "print ('Also check the length of unique_words. It should be 167')"
   ]
  },
  {
   "cell_type": "code",
   "execution_count": 211,
   "metadata": {},
   "outputs": [
    {
     "name": "stdout",
     "output_type": "stream",
     "text": [
      "Output from your function: False\n",
      "Correct output: False\n",
      "188\n",
      "Also check the length of unique_words. It should be 188\n"
     ]
    }
   ],
   "source": [
    "print('Output from your function:', has_top_words(wiki.iloc[33]['word_count']))\n",
    "print ('Correct output: False')\n",
    "print(len(set(wiki.iloc[33]['word_count'])))\n",
    "print ('Also check the length of unique_words. It should be 188')"
   ]
  },
  {
   "cell_type": "markdown",
   "metadata": {},
   "source": [
    "Measure the pairwise distance between the Wikipedia pages of Barack Obama, George W. Bush, and Joe Biden. Which of the three pairs has the smallest distance?"
   ]
  },
  {
   "cell_type": "code",
   "execution_count": 213,
   "metadata": {},
   "outputs": [
    {
     "name": "stdout",
     "output_type": "stream",
     "text": [
      "                                                URI            name  \\\n",
      "28447  <http://dbpedia.org/resource/George_W._Bush>  George W. Bush   \n",
      "\n",
      "                                                    text  \\\n",
      "28447  george walker bush born july 6 1946 is an amer...   \n",
      "\n",
      "                                              word_count  has_top_words  \n",
      "28447  {'torturebush': 1, 'kingdombush': 1, 'floridae...           True  \n"
     ]
    }
   ],
   "source": [
    "print(wiki[wiki['name'] == 'George W. Bush'])"
   ]
  },
  {
   "cell_type": "code",
   "execution_count": 235,
   "metadata": {},
   "outputs": [
    {
     "name": "stdout",
     "output_type": "stream",
     "text": [
      "                                           URI       name  \\\n",
      "24478  <http://dbpedia.org/resource/Joe_Biden>  Joe Biden   \n",
      "\n",
      "                                                    text  \\\n",
      "24478  joseph robinette joe biden jr dosf rbnt badn b...   \n",
      "\n",
      "                                              word_count  has_top_words  \n",
      "24478  {'badn': 1, 'rbnt': 1, 'thomasbiden': 1, 'dela...           True  \n"
     ]
    }
   ],
   "source": [
    "print(wiki[wiki['name'] == 'Joe Biden'])"
   ]
  },
  {
   "cell_type": "code",
   "execution_count": 237,
   "metadata": {},
   "outputs": [
    {
     "name": "stdout",
     "output_type": "stream",
     "text": [
      "Distance betwwen Obama and Bush:  [[ 34.39476704]]\n"
     ]
    }
   ],
   "source": [
    "from sklearn.metrics.pairwise import euclidean_distances\n",
    "# 24478:Joe Biden; 28447: Bush; 35817: Obama\n",
    "print('Distance betwwen Obama and Bush: ',euclidean_distances(word_count[28447], word_count[35817]  ))"
   ]
  },
  {
   "cell_type": "code",
   "execution_count": 236,
   "metadata": {},
   "outputs": [
    {
     "name": "stdout",
     "output_type": "stream",
     "text": [
      "[[ 32.75667871]]\n"
     ]
    }
   ],
   "source": [
    "print('Distance betwwen Bush and Biden: ',euclidean_distances(word_count[28447], word_count[24478  ]  ))"
   ]
  },
  {
   "cell_type": "code",
   "execution_count": 238,
   "metadata": {},
   "outputs": [
    {
     "name": "stdout",
     "output_type": "stream",
     "text": [
      "Distance betwwen Obama and Biden:  [[ 33.07567082]]\n"
     ]
    }
   ],
   "source": [
    "print('Distance betwwen Obama and Biden: ',euclidean_distances(word_count[35817], word_count[24478  ]  ))"
   ]
  },
  {
   "cell_type": "markdown",
   "metadata": {},
   "source": [
    "**Exploration**. Collect all words that appear both in Barack Obama and George W. Bush pages.  Out of those words, find the 10 words that show up most often in Obama's page. "
   ]
  },
  {
   "cell_type": "code",
   "execution_count": 249,
   "metadata": {},
   "outputs": [
    {
     "data": {
      "text/plain": [
       "[1, 2, 5, 3, 4]"
      ]
     },
     "execution_count": 249,
     "metadata": {},
     "output_type": "execute_result"
    }
   ],
   "source": [
    "aa = np.array([1, 2, 5, 3, 4, 3, 4])\n",
    "output=list()\n",
    "for element in aa:\n",
    "    if(element in output) == False:\n",
    "        output.append(element)\n",
    "output    "
   ]
  },
  {
   "cell_type": "markdown",
   "metadata": {},
   "source": [
    "## TF-IDF to the rescue"
   ]
  },
  {
   "cell_type": "markdown",
   "metadata": {},
   "source": [
    "Much of the perceived commonalities between Obama and Barrio were due to occurrences of extremely frequent words, such as \"the\", \"and\", and \"his\". So nearest neighbors is recommending plausible results sometimes for the wrong reasons. \n",
    "\n",
    "To retrieve articles that are more relevant, we should focus more on rare words that don't happen in every article. **TF-IDF** (term frequency–inverse document frequency) is a feature representation that penalizes words that are too common.  Let's use GraphLab Create's implementation of TF-IDF and repeat the search for the 10 nearest neighbors of Barack Obama:"
   ]
  },
  {
   "cell_type": "code",
   "execution_count": 261,
   "metadata": {
    "collapsed": true
   },
   "outputs": [],
   "source": [
    "tf_idf = load_sparse_csr('people_wiki_tf_idf.npz')"
   ]
  },
  {
   "cell_type": "code",
   "execution_count": 264,
   "metadata": {},
   "outputs": [
    {
     "data": {
      "text/plain": [
       "(59071, 547979)"
      ]
     },
     "execution_count": 264,
     "metadata": {},
     "output_type": "execute_result"
    }
   ],
   "source": [
    "tf_idf.shape"
   ]
  },
  {
   "cell_type": "code",
   "execution_count": 265,
   "metadata": {},
   "outputs": [
    {
     "data": {
      "text/plain": [
       "NearestNeighbors(algorithm='brute', leaf_size=30, metric='euclidean',\n",
       "         metric_params=None, n_jobs=1, n_neighbors=5, p=2, radius=1.0)"
      ]
     },
     "execution_count": 265,
     "metadata": {},
     "output_type": "execute_result"
    }
   ],
   "source": [
    "model_tf_idf = NearestNeighbors(metric='euclidean', algorithm='brute')\n",
    "model_tf_idf.fit(tf_idf)"
   ]
  },
  {
   "cell_type": "code",
   "execution_count": 266,
   "metadata": {
    "collapsed": true
   },
   "outputs": [],
   "source": [
    "distances, indices = model_tf_idf.kneighbors(tf_idf[35817], n_neighbors=10) # 1st arg: word count vector"
   ]
  },
  {
   "cell_type": "code",
   "execution_count": 267,
   "metadata": {},
   "outputs": [
    {
     "data": {
      "text/html": [
       "<div>\n",
       "<style>\n",
       "    .dataframe thead tr:only-child th {\n",
       "        text-align: right;\n",
       "    }\n",
       "\n",
       "    .dataframe thead th {\n",
       "        text-align: left;\n",
       "    }\n",
       "\n",
       "    .dataframe tbody tr th {\n",
       "        vertical-align: top;\n",
       "    }\n",
       "</style>\n",
       "<table border=\"1\" class=\"dataframe\">\n",
       "  <thead>\n",
       "    <tr style=\"text-align: right;\">\n",
       "      <th></th>\n",
       "      <th>URI</th>\n",
       "      <th>name</th>\n",
       "      <th>text</th>\n",
       "      <th>word_count</th>\n",
       "      <th>has_top_words</th>\n",
       "    </tr>\n",
       "  </thead>\n",
       "  <tbody>\n",
       "    <tr>\n",
       "      <th>35817</th>\n",
       "      <td>&lt;http://dbpedia.org/resource/Barack_Obama&gt;</td>\n",
       "      <td>Barack Obama</td>\n",
       "      <td>barack hussein obama ii brk husen bm born augu...</td>\n",
       "      <td>{'husen': 1, '2012obama': 1, 'laureateduring':...</td>\n",
       "      <td>True</td>\n",
       "    </tr>\n",
       "    <tr>\n",
       "      <th>7914</th>\n",
       "      <td>&lt;http://dbpedia.org/resource/Phil_Schiliro&gt;</td>\n",
       "      <td>Phil Schiliro</td>\n",
       "      <td>phil schiliro is an american political consult...</td>\n",
       "      <td>{'daschleschiliro': 1, 'schiliro': 2, 'waxman'...</td>\n",
       "      <td>True</td>\n",
       "    </tr>\n",
       "    <tr>\n",
       "      <th>46811</th>\n",
       "      <td>&lt;http://dbpedia.org/resource/Jeff_Sessions&gt;</td>\n",
       "      <td>Jeff Sessions</td>\n",
       "      <td>jefferson beauregard jeff sessions iii born de...</td>\n",
       "      <td>{'reconstructionsessions': 1, 'fifthmost': 1, ...</td>\n",
       "      <td>True</td>\n",
       "    </tr>\n",
       "    <tr>\n",
       "      <th>44681</th>\n",
       "      <td>&lt;http://dbpedia.org/resource/Jesse_Lee_(politi...</td>\n",
       "      <td>Jesse Lee (politician)</td>\n",
       "      <td>jesse lee born 1979 was named the white house ...</td>\n",
       "      <td>{'terminatorlee': 1, 'dccc': 1, 'factually': 1...</td>\n",
       "      <td>True</td>\n",
       "    </tr>\n",
       "    <tr>\n",
       "      <th>38376</th>\n",
       "      <td>&lt;http://dbpedia.org/resource/Samantha_Power&gt;</td>\n",
       "      <td>Samantha Power</td>\n",
       "      <td>samantha power born september 21 1970 is an ir...</td>\n",
       "      <td>{'nationspower': 1, 'monsterpower': 1, 'forbes...</td>\n",
       "      <td>True</td>\n",
       "    </tr>\n",
       "    <tr>\n",
       "      <th>6507</th>\n",
       "      <td>&lt;http://dbpedia.org/resource/Bob_Menendez&gt;</td>\n",
       "      <td>Bob Menendez</td>\n",
       "      <td>robert bob menendez born january 1 1954 is the...</td>\n",
       "      <td>{'2012menendez': 1, 'menendez': 1, 'texasin': ...</td>\n",
       "      <td>True</td>\n",
       "    </tr>\n",
       "    <tr>\n",
       "      <th>38714</th>\n",
       "      <td>&lt;http://dbpedia.org/resource/Eric_Stern_(polit...</td>\n",
       "      <td>Eric Stern (politician)</td>\n",
       "      <td>eric stern is the director of operations for t...</td>\n",
       "      <td>{'democratseric': 1, 'wyrick': 1, 'afj': 1, 'k...</td>\n",
       "      <td>True</td>\n",
       "    </tr>\n",
       "    <tr>\n",
       "      <th>44825</th>\n",
       "      <td>&lt;http://dbpedia.org/resource/James_A._Guest&gt;</td>\n",
       "      <td>James A. Guest</td>\n",
       "      <td>james alfred guest is an american lawyer and c...</td>\n",
       "      <td>{'handgun': 1, 'dma': 1, 'parenthood': 1, 'sta...</td>\n",
       "      <td>True</td>\n",
       "    </tr>\n",
       "    <tr>\n",
       "      <th>44368</th>\n",
       "      <td>&lt;http://dbpedia.org/resource/Roland_Grossenbac...</td>\n",
       "      <td>Roland Grossenbacher</td>\n",
       "      <td>dr roland edouard grossenbacher is a swiss att...</td>\n",
       "      <td>{'grossenbacher': 1, 'organisationhe': 1, 'edo...</td>\n",
       "      <td>True</td>\n",
       "    </tr>\n",
       "    <tr>\n",
       "      <th>33417</th>\n",
       "      <td>&lt;http://dbpedia.org/resource/Tulsi_Gabbard&gt;</td>\n",
       "      <td>Tulsi Gabbard</td>\n",
       "      <td>tulsi gabbard born april 12 1981 is an america...</td>\n",
       "      <td>{'veteransgabbard': 1, 'gabbard': 1, 'hanneman...</td>\n",
       "      <td>True</td>\n",
       "    </tr>\n",
       "  </tbody>\n",
       "</table>\n",
       "</div>"
      ],
      "text/plain": [
       "                                                     URI  \\\n",
       "35817         <http://dbpedia.org/resource/Barack_Obama>   \n",
       "7914         <http://dbpedia.org/resource/Phil_Schiliro>   \n",
       "46811        <http://dbpedia.org/resource/Jeff_Sessions>   \n",
       "44681  <http://dbpedia.org/resource/Jesse_Lee_(politi...   \n",
       "38376       <http://dbpedia.org/resource/Samantha_Power>   \n",
       "6507          <http://dbpedia.org/resource/Bob_Menendez>   \n",
       "38714  <http://dbpedia.org/resource/Eric_Stern_(polit...   \n",
       "44825       <http://dbpedia.org/resource/James_A._Guest>   \n",
       "44368  <http://dbpedia.org/resource/Roland_Grossenbac...   \n",
       "33417        <http://dbpedia.org/resource/Tulsi_Gabbard>   \n",
       "\n",
       "                          name  \\\n",
       "35817             Barack Obama   \n",
       "7914             Phil Schiliro   \n",
       "46811            Jeff Sessions   \n",
       "44681   Jesse Lee (politician)   \n",
       "38376           Samantha Power   \n",
       "6507              Bob Menendez   \n",
       "38714  Eric Stern (politician)   \n",
       "44825           James A. Guest   \n",
       "44368     Roland Grossenbacher   \n",
       "33417            Tulsi Gabbard   \n",
       "\n",
       "                                                    text  \\\n",
       "35817  barack hussein obama ii brk husen bm born augu...   \n",
       "7914   phil schiliro is an american political consult...   \n",
       "46811  jefferson beauregard jeff sessions iii born de...   \n",
       "44681  jesse lee born 1979 was named the white house ...   \n",
       "38376  samantha power born september 21 1970 is an ir...   \n",
       "6507   robert bob menendez born january 1 1954 is the...   \n",
       "38714  eric stern is the director of operations for t...   \n",
       "44825  james alfred guest is an american lawyer and c...   \n",
       "44368  dr roland edouard grossenbacher is a swiss att...   \n",
       "33417  tulsi gabbard born april 12 1981 is an america...   \n",
       "\n",
       "                                              word_count  has_top_words  \n",
       "35817  {'husen': 1, '2012obama': 1, 'laureateduring':...           True  \n",
       "7914   {'daschleschiliro': 1, 'schiliro': 2, 'waxman'...           True  \n",
       "46811  {'reconstructionsessions': 1, 'fifthmost': 1, ...           True  \n",
       "44681  {'terminatorlee': 1, 'dccc': 1, 'factually': 1...           True  \n",
       "38376  {'nationspower': 1, 'monsterpower': 1, 'forbes...           True  \n",
       "6507   {'2012menendez': 1, 'menendez': 1, 'texasin': ...           True  \n",
       "38714  {'democratseric': 1, 'wyrick': 1, 'afj': 1, 'k...           True  \n",
       "44825  {'handgun': 1, 'dma': 1, 'parenthood': 1, 'sta...           True  \n",
       "44368  {'grossenbacher': 1, 'organisationhe': 1, 'edo...           True  \n",
       "33417  {'veteransgabbard': 1, 'gabbard': 1, 'hanneman...           True  "
      ]
     },
     "execution_count": 267,
     "metadata": {},
     "output_type": "execute_result"
    }
   ],
   "source": [
    "wiki.iloc[indices[0]]"
   ]
  },
  {
   "cell_type": "code",
   "execution_count": 268,
   "metadata": {
    "collapsed": true
   },
   "outputs": [],
   "source": [
    "wiki['tf_idf'] = unpack_dict(tf_idf, map_index_to_word)"
   ]
  },
  {
   "cell_type": "code",
   "execution_count": 269,
   "metadata": {
    "collapsed": true
   },
   "outputs": [],
   "source": [
    "def top_words_tf_idf(name):\n",
    "    \"\"\"\n",
    "    Get a table of the most frequent words in the given person's wikipedia page.\n",
    "    \"\"\"\n",
    "    row = wiki[wiki['name'] == name]\n",
    "    #print(row.dtypes)\n",
    "    #print(row['word_count'])\n",
    "    #word_count_table = row[['word_count']].stack()\n",
    "    row = row['tf_idf'].values[0]\n",
    "    #word_count_table = row['word_count'].to_dict()\n",
    "    #dc_sort = sorted(obama_words.items(),key = itemgetter(1),reverse = True)\n",
    "\n",
    "    return sorted(row.items(), key=itemgetter(1), reverse=True)"
   ]
  },
  {
   "cell_type": "code",
   "execution_count": 270,
   "metadata": {},
   "outputs": [
    {
     "data": {
      "text/plain": [
       "[('obama', 43.2956530720749),\n",
       " ('act', 27.67822262297991),\n",
       " ('iraq', 17.747378587965535),\n",
       " ('control', 14.887060845181308),\n",
       " ('law', 14.722935761763422),\n",
       " ('ordered', 14.533373950913514),\n",
       " ('military', 13.115932778499415),\n",
       " ('response', 12.784385241175055),\n",
       " ('involvement', 12.784385241175055),\n",
       " ('democratic', 12.410688697332166)]"
      ]
     },
     "execution_count": 270,
     "metadata": {},
     "output_type": "execute_result"
    }
   ],
   "source": [
    "obama_tf_idf = top_words_tf_idf('Barack Obama')\n",
    "obama_tf_idf[0:10]"
   ]
  },
  {
   "cell_type": "code",
   "execution_count": 271,
   "metadata": {},
   "outputs": [
    {
     "data": {
      "text/plain": [
       "[('schiliro', 21.972990778450388),\n",
       " ('staff', 15.856441635180534),\n",
       " ('congressional', 13.547087656327776),\n",
       " ('daschleschiliro', 10.986495389225194),\n",
       " ('obama', 9.621256238238866),\n",
       " ('waxman', 9.04058524016988),\n",
       " ('president', 9.033586614158258),\n",
       " ('2014from', 8.683910296231149),\n",
       " ('law', 7.361467880881711),\n",
       " ('consultant', 6.913104037247212)]"
      ]
     },
     "execution_count": 271,
     "metadata": {},
     "output_type": "execute_result"
    }
   ],
   "source": [
    "schiliro_tf_idf = top_words_tf_idf('Phil Schiliro')\n",
    "schiliro_tf_idf[0:10]"
   ]
  },
  {
   "cell_type": "markdown",
   "metadata": {},
   "source": [
    "Using the **join** operation we learned earlier, try your hands at computing the common words shared by Obama's and Schiliro's articles. Sort the common words by their TF-IDF weights in Obama's document."
   ]
  },
  {
   "cell_type": "code",
   "execution_count": 281,
   "metadata": {},
   "outputs": [
    {
     "name": "stdout",
     "output_type": "stream",
     "text": [
      "      word  tf_idf_count\n",
      "0    obama     43.295653\n",
      "1      act     27.678223\n",
      "2     iraq     17.747379\n",
      "3  control     14.887061\n",
      "4      law     14.722936\n",
      "              word  tf_idf_count\n",
      "0         schiliro     21.972991\n",
      "1            staff     15.856442\n",
      "2    congressional     13.547088\n",
      "3  daschleschiliro     10.986495\n",
      "4            obama      9.621256\n"
     ]
    },
    {
     "data": {
      "text/html": [
       "<div>\n",
       "<style>\n",
       "    .dataframe thead tr:only-child th {\n",
       "        text-align: right;\n",
       "    }\n",
       "\n",
       "    .dataframe thead th {\n",
       "        text-align: left;\n",
       "    }\n",
       "\n",
       "    .dataframe tbody tr th {\n",
       "        vertical-align: top;\n",
       "    }\n",
       "</style>\n",
       "<table border=\"1\" class=\"dataframe\">\n",
       "  <thead>\n",
       "    <tr style=\"text-align: right;\">\n",
       "      <th></th>\n",
       "      <th>word</th>\n",
       "      <th>tf_idf_count_x</th>\n",
       "      <th>tf_idf_count_y</th>\n",
       "    </tr>\n",
       "  </thead>\n",
       "  <tbody>\n",
       "    <tr>\n",
       "      <th>0</th>\n",
       "      <td>obama</td>\n",
       "      <td>43.295653</td>\n",
       "      <td>9.621256</td>\n",
       "    </tr>\n",
       "    <tr>\n",
       "      <th>1</th>\n",
       "      <td>law</td>\n",
       "      <td>14.722936</td>\n",
       "      <td>7.361468</td>\n",
       "    </tr>\n",
       "    <tr>\n",
       "      <th>2</th>\n",
       "      <td>democratic</td>\n",
       "      <td>12.410689</td>\n",
       "      <td>6.205344</td>\n",
       "    </tr>\n",
       "    <tr>\n",
       "      <th>3</th>\n",
       "      <td>senate</td>\n",
       "      <td>10.164288</td>\n",
       "      <td>3.388096</td>\n",
       "    </tr>\n",
       "    <tr>\n",
       "      <th>4</th>\n",
       "      <td>presidential</td>\n",
       "      <td>7.386955</td>\n",
       "      <td>3.693478</td>\n",
       "    </tr>\n",
       "    <tr>\n",
       "      <th>5</th>\n",
       "      <td>president</td>\n",
       "      <td>7.226869</td>\n",
       "      <td>9.033587</td>\n",
       "    </tr>\n",
       "    <tr>\n",
       "      <th>6</th>\n",
       "      <td>policy</td>\n",
       "      <td>6.095386</td>\n",
       "      <td>3.047693</td>\n",
       "    </tr>\n",
       "    <tr>\n",
       "      <th>7</th>\n",
       "      <td>states</td>\n",
       "      <td>5.473201</td>\n",
       "      <td>1.824400</td>\n",
       "    </tr>\n",
       "    <tr>\n",
       "      <th>8</th>\n",
       "      <td>office</td>\n",
       "      <td>5.248173</td>\n",
       "      <td>2.624086</td>\n",
       "    </tr>\n",
       "    <tr>\n",
       "      <th>9</th>\n",
       "      <td>2011</td>\n",
       "      <td>5.107041</td>\n",
       "      <td>3.404694</td>\n",
       "    </tr>\n",
       "  </tbody>\n",
       "</table>\n",
       "</div>"
      ],
      "text/plain": [
       "           word  tf_idf_count_x  tf_idf_count_y\n",
       "0         obama       43.295653        9.621256\n",
       "1           law       14.722936        7.361468\n",
       "2    democratic       12.410689        6.205344\n",
       "3        senate       10.164288        3.388096\n",
       "4  presidential        7.386955        3.693478\n",
       "5     president        7.226869        9.033587\n",
       "6        policy        6.095386        3.047693\n",
       "7        states        5.473201        1.824400\n",
       "8        office        5.248173        2.624086\n",
       "9          2011        5.107041        3.404694"
      ]
     },
     "execution_count": 281,
     "metadata": {},
     "output_type": "execute_result"
    }
   ],
   "source": [
    "obama_tf_idf = pd.DataFrame(obama_tf_idf, columns = ['word','tf_idf_count'])\n",
    "schiliro_tf_idf = pd.DataFrame(schiliro_tf_idf, columns = ['word','tf_idf_count'])\n",
    "print(obama_tf_idf.head(5))\n",
    "print(schiliro_tf_idf.head(5))\n",
    "combined_tf_idf_words = pd.DataFrame.merge(obama_tf_idf, schiliro_tf_idf, on='word')\n",
    "combined_tf_idf_words.head(10)"
   ]
  },
  {
   "cell_type": "markdown",
   "metadata": {},
   "source": [
    "**Exploration**. Among the words that appear in both Barack Obama and Phil Schiliro, take the 5 that have largest weights in Obama. How many of the articles in the Wikipedia dataset contain all of those 5 words?"
   ]
  },
  {
   "cell_type": "code",
   "execution_count": 283,
   "metadata": {},
   "outputs": [
    {
     "data": {
      "text/plain": [
       "{'democratic', 'law', 'obama', 'presidential', 'senate'}"
      ]
     },
     "execution_count": 283,
     "metadata": {},
     "output_type": "execute_result"
    }
   ],
   "source": [
    "common_words = set(combined_tf_idf_words['word'][0:5])\n",
    "common_words"
   ]
  },
  {
   "cell_type": "code",
   "execution_count": 284,
   "metadata": {},
   "outputs": [
    {
     "data": {
      "text/plain": [
       "14"
      ]
     },
     "execution_count": 284,
     "metadata": {},
     "output_type": "execute_result"
    }
   ],
   "source": [
    "def has_top_words(word_count_vector):\n",
    "    # extract the keys of word_count_vector and convert it to a set\n",
    "    unique_words = set(word_count_vector)\n",
    "    # return True if common_words is a subset of unique_words\n",
    "    # return False otherwise\n",
    "    return common_words.issubset(unique_words)\n",
    "\n",
    "wiki['has_top_words'] = wiki['tf_idf'].apply(has_top_words)\n",
    "(wiki['has_top_words'] == True).sum()"
   ]
  },
  {
   "cell_type": "markdown",
   "metadata": {},
   "source": [
    "## Choosing metrics"
   ]
  },
  {
   "cell_type": "markdown",
   "metadata": {},
   "source": [
    "You may wonder why Joe Biden, Obama's running mate in two presidential elections, is missing from the query results of `model_tf_idf`. Let's find out why. First, compute the distance between TF-IDF features of Obama and Biden."
   ]
  },
  {
   "cell_type": "code",
   "execution_count": 285,
   "metadata": {},
   "outputs": [
    {
     "name": "stdout",
     "output_type": "stream",
     "text": [
      "Distance betwwen Obama and Biden:  [[ 123.29745601]]\n"
     ]
    }
   ],
   "source": [
    "print('Distance betwwen Obama and Biden: ',euclidean_distances(tf_idf[35817], tf_idf[24478]  ))"
   ]
  },
  {
   "cell_type": "markdown",
   "metadata": {},
   "source": [
    "But one may wonder, is Biden's article that different from Obama's, more so than, say, Schiliro's? It turns out that, when we compute nearest neighbors using the Euclidean distances, we unwittingly favor short articles over long ones. Let us compute the length of each Wikipedia document, and examine the document lengths for the 100 nearest neighbors to Obama's page."
   ]
  },
  {
   "cell_type": "code",
   "execution_count": 289,
   "metadata": {},
   "outputs": [
    {
     "data": {
      "text/html": [
       "<div>\n",
       "<style>\n",
       "    .dataframe thead tr:only-child th {\n",
       "        text-align: right;\n",
       "    }\n",
       "\n",
       "    .dataframe thead th {\n",
       "        text-align: left;\n",
       "    }\n",
       "\n",
       "    .dataframe tbody tr th {\n",
       "        vertical-align: top;\n",
       "    }\n",
       "</style>\n",
       "<table border=\"1\" class=\"dataframe\">\n",
       "  <thead>\n",
       "    <tr style=\"text-align: right;\">\n",
       "      <th></th>\n",
       "      <th>URI</th>\n",
       "      <th>name</th>\n",
       "      <th>text</th>\n",
       "      <th>word_count</th>\n",
       "      <th>has_top_words</th>\n",
       "      <th>tf_idf</th>\n",
       "    </tr>\n",
       "  </thead>\n",
       "  <tbody>\n",
       "    <tr>\n",
       "      <th>0</th>\n",
       "      <td>&lt;http://dbpedia.org/resource/Digby_Morrell&gt;</td>\n",
       "      <td>Digby Morrell</td>\n",
       "      <td>digby morrell born 10 october 1979 is a former...</td>\n",
       "      <td>{'brisbaneafter': 1, 'edflhe': 1, 'aflfrom': 1...</td>\n",
       "      <td>False</td>\n",
       "      <td>{'brisbaneafter': 10.986495389225194, 'edflhe'...</td>\n",
       "    </tr>\n",
       "  </tbody>\n",
       "</table>\n",
       "</div>"
      ],
      "text/plain": [
       "                                           URI           name  \\\n",
       "0  <http://dbpedia.org/resource/Digby_Morrell>  Digby Morrell   \n",
       "\n",
       "                                                text  \\\n",
       "0  digby morrell born 10 october 1979 is a former...   \n",
       "\n",
       "                                          word_count  has_top_words  \\\n",
       "0  {'brisbaneafter': 1, 'edflhe': 1, 'aflfrom': 1...          False   \n",
       "\n",
       "                                              tf_idf  \n",
       "0  {'brisbaneafter': 10.986495389225194, 'edflhe'...  "
      ]
     },
     "execution_count": 289,
     "metadata": {},
     "output_type": "execute_result"
    }
   ],
   "source": [
    "wiki.head(1)"
   ]
  },
  {
   "cell_type": "code",
   "execution_count": 290,
   "metadata": {},
   "outputs": [
    {
     "data": {
      "text/plain": [
       "URI              object\n",
       "name             object\n",
       "text             object\n",
       "word_count       object\n",
       "has_top_words      bool\n",
       "tf_idf           object\n",
       "dtype: object"
      ]
     },
     "execution_count": 290,
     "metadata": {},
     "output_type": "execute_result"
    }
   ],
   "source": [
    "wiki.dtypes"
   ]
  },
  {
   "cell_type": "code",
   "execution_count": 292,
   "metadata": {},
   "outputs": [],
   "source": [
    "def compute_length(row):\n",
    "    return len(row.split(' '))\n",
    "\n",
    "wiki['length'] = wiki['text'].apply(compute_length) "
   ]
  },
  {
   "cell_type": "code",
   "execution_count": 309,
   "metadata": {
    "collapsed": true
   },
   "outputs": [],
   "source": [
    "#nearest_neighbors_euclidean = model_tf_idf.kneighbors(wiki[wiki['name'] == 'Barack Obama'], label='name', k=100)\n",
    "nearest_neighbors_euclidean, indices = model_tf_idf.kneighbors(tf_idf[35817], n_neighbors=100) # 1st arg: word count vector"
   ]
  },
  {
   "cell_type": "code",
   "execution_count": 310,
   "metadata": {},
   "outputs": [
    {
     "name": "stdout",
     "output_type": "stream",
     "text": [
      "100\n",
      "1\n"
     ]
    }
   ],
   "source": [
    "print(len(indices[0]))\n",
    "print(len(nearest_neighbors_euclidean))"
   ]
  },
  {
   "cell_type": "code",
   "execution_count": 312,
   "metadata": {},
   "outputs": [
    {
     "data": {
      "text/plain": [
       "array([   0.        ,  106.86101369,  108.87167422,  109.04569791,\n",
       "        109.10810617,  109.78186711,  109.95778808,  110.41388872,\n",
       "        110.4706087 ,  110.696998  ,  110.73054671,  111.0394502 ,\n",
       "        111.06197141,  111.10221256,  111.21960894,  111.22066603,\n",
       "        111.28783445,  111.33890125,  111.442101  ,  111.45755325,\n",
       "        111.54733533,  111.6036219 ,  111.6381485 ,  111.7341668 ,\n",
       "        111.81200253,  111.98453079,  112.12688462,  112.17017722,\n",
       "        112.21349425,  112.22927014,  112.23525889,  112.32616748,\n",
       "        112.37103105,  112.41939183,  112.42240372,  112.4327566 ,\n",
       "        112.44597295,  112.45241098,  112.47904796,  112.49608718,\n",
       "        112.52186294,  112.53139763,  112.56932285,  112.60686916,\n",
       "        112.62503156,  112.69849549,  112.70036791,  112.7443144 ,\n",
       "        112.82611587,  112.88293202,  112.88588685,  112.91488924,\n",
       "        112.93697919,  112.95443032,  112.95729917,  112.98304161,\n",
       "        112.99052231,  112.99953426,  113.0291932 ,  113.04876846,\n",
       "        113.10338938,  113.12690557,  113.13435275,  113.18479661,\n",
       "        113.22354273,  113.24902481,  113.24963249,  113.28828375,\n",
       "        113.29479607,  113.3360011 ,  113.35526486,  113.36243496,\n",
       "        113.37218832,  113.38493236,  113.39685697,  113.39946513,\n",
       "        113.43116972,  113.49086386,  113.50168918,  113.52672747,\n",
       "        113.52693869,  113.58833224,  113.618306  ,  113.6314962 ,\n",
       "        113.6324589 ,  113.64571166,  113.67850598,  113.67966706,\n",
       "        113.696701  ,  113.71091318,  113.71580221,  113.73780876,\n",
       "        113.75840492,  113.77891351,  113.77893958,  113.78425732,\n",
       "        113.78543707,  113.79305311,  113.79514164,  113.8160861 ])"
      ]
     },
     "execution_count": 312,
     "metadata": {},
     "output_type": "execute_result"
    }
   ],
   "source": [
    "nearest_neighbors_euclidean[0]"
   ]
  },
  {
   "cell_type": "code",
   "execution_count": 354,
   "metadata": {},
   "outputs": [],
   "source": [
    "nearest_neighbors_names = wiki['name'].iloc[indices[0]]\n",
    "nearest_neighbors_dist = nearest_neighbors_euclidean[0]\n",
    "nearest_neighbors = {'dist': nearest_neighbors_dist, 'name': nearest_neighbors_names}"
   ]
  },
  {
   "cell_type": "code",
   "execution_count": 355,
   "metadata": {},
   "outputs": [],
   "source": [
    "nearest_neighbors = pd.DataFrame(nearest_neighbors,\n",
    "                      columns=['dist','name'])"
   ]
  },
  {
   "cell_type": "code",
   "execution_count": 356,
   "metadata": {},
   "outputs": [
    {
     "data": {
      "text/html": [
       "<div>\n",
       "<style>\n",
       "    .dataframe thead tr:only-child th {\n",
       "        text-align: right;\n",
       "    }\n",
       "\n",
       "    .dataframe thead th {\n",
       "        text-align: left;\n",
       "    }\n",
       "\n",
       "    .dataframe tbody tr th {\n",
       "        vertical-align: top;\n",
       "    }\n",
       "</style>\n",
       "<table border=\"1\" class=\"dataframe\">\n",
       "  <thead>\n",
       "    <tr style=\"text-align: right;\">\n",
       "      <th></th>\n",
       "      <th>dist</th>\n",
       "      <th>name</th>\n",
       "    </tr>\n",
       "  </thead>\n",
       "  <tbody>\n",
       "    <tr>\n",
       "      <th>35817</th>\n",
       "      <td>0.000000</td>\n",
       "      <td>Barack Obama</td>\n",
       "    </tr>\n",
       "    <tr>\n",
       "      <th>7914</th>\n",
       "      <td>106.861014</td>\n",
       "      <td>Phil Schiliro</td>\n",
       "    </tr>\n",
       "    <tr>\n",
       "      <th>46811</th>\n",
       "      <td>108.871674</td>\n",
       "      <td>Jeff Sessions</td>\n",
       "    </tr>\n",
       "    <tr>\n",
       "      <th>44681</th>\n",
       "      <td>109.045698</td>\n",
       "      <td>Jesse Lee (politician)</td>\n",
       "    </tr>\n",
       "    <tr>\n",
       "      <th>38376</th>\n",
       "      <td>109.108106</td>\n",
       "      <td>Samantha Power</td>\n",
       "    </tr>\n",
       "  </tbody>\n",
       "</table>\n",
       "</div>"
      ],
      "text/plain": [
       "             dist                    name\n",
       "35817    0.000000            Barack Obama\n",
       "7914   106.861014           Phil Schiliro\n",
       "46811  108.871674           Jeff Sessions\n",
       "44681  109.045698  Jesse Lee (politician)\n",
       "38376  109.108106          Samantha Power"
      ]
     },
     "execution_count": 356,
     "metadata": {},
     "output_type": "execute_result"
    }
   ],
   "source": [
    "nearest_neighbors.head()"
   ]
  },
  {
   "cell_type": "code",
   "execution_count": 357,
   "metadata": {},
   "outputs": [],
   "source": [
    "nearest_neighbors = pd.DataFrame.merge(nearest_neighbors, wiki[['name', 'length']], on='name')"
   ]
  },
  {
   "cell_type": "code",
   "execution_count": 358,
   "metadata": {},
   "outputs": [
    {
     "data": {
      "text/html": [
       "<div>\n",
       "<style>\n",
       "    .dataframe thead tr:only-child th {\n",
       "        text-align: right;\n",
       "    }\n",
       "\n",
       "    .dataframe thead th {\n",
       "        text-align: left;\n",
       "    }\n",
       "\n",
       "    .dataframe tbody tr th {\n",
       "        vertical-align: top;\n",
       "    }\n",
       "</style>\n",
       "<table border=\"1\" class=\"dataframe\">\n",
       "  <thead>\n",
       "    <tr style=\"text-align: right;\">\n",
       "      <th></th>\n",
       "      <th>dist</th>\n",
       "      <th>name</th>\n",
       "      <th>length</th>\n",
       "    </tr>\n",
       "  </thead>\n",
       "  <tbody>\n",
       "    <tr>\n",
       "      <th>0</th>\n",
       "      <td>0.000000</td>\n",
       "      <td>Barack Obama</td>\n",
       "      <td>540</td>\n",
       "    </tr>\n",
       "    <tr>\n",
       "      <th>1</th>\n",
       "      <td>106.861014</td>\n",
       "      <td>Phil Schiliro</td>\n",
       "      <td>208</td>\n",
       "    </tr>\n",
       "    <tr>\n",
       "      <th>2</th>\n",
       "      <td>108.871674</td>\n",
       "      <td>Jeff Sessions</td>\n",
       "      <td>230</td>\n",
       "    </tr>\n",
       "    <tr>\n",
       "      <th>3</th>\n",
       "      <td>109.045698</td>\n",
       "      <td>Jesse Lee (politician)</td>\n",
       "      <td>216</td>\n",
       "    </tr>\n",
       "    <tr>\n",
       "      <th>4</th>\n",
       "      <td>109.108106</td>\n",
       "      <td>Samantha Power</td>\n",
       "      <td>310</td>\n",
       "    </tr>\n",
       "  </tbody>\n",
       "</table>\n",
       "</div>"
      ],
      "text/plain": [
       "         dist                    name  length\n",
       "0    0.000000            Barack Obama     540\n",
       "1  106.861014           Phil Schiliro     208\n",
       "2  108.871674           Jeff Sessions     230\n",
       "3  109.045698  Jesse Lee (politician)     216\n",
       "4  109.108106          Samantha Power     310"
      ]
     },
     "execution_count": 358,
     "metadata": {},
     "output_type": "execute_result"
    }
   ],
   "source": [
    "nearest_neighbors.head(5)"
   ]
  },
  {
   "cell_type": "code",
   "execution_count": 365,
   "metadata": {},
   "outputs": [
    {
     "data": {
      "text/plain": [
       "array([540], dtype=int64)"
      ]
     },
     "execution_count": 365,
     "metadata": {},
     "output_type": "execute_result"
    }
   ],
   "source": [
    "wiki['length'][wiki['name'] == 'Barack Obama'].values"
   ]
  },
  {
   "cell_type": "code",
   "execution_count": 370,
   "metadata": {},
   "outputs": [
    {
     "data": {
      "image/png": "[encoded data removed]",
      "text/plain": [
       "<matplotlib.figure.Figure at 0x513b824390>"
      ]
     },
     "metadata": {},
     "output_type": "display_data"
    }
   ],
   "source": [
    "plt.figure(figsize=(10.5,4.5))\n",
    "plt.hist(wiki['length'], 50, color='k', edgecolor='None', histtype='stepfilled', normed=True,\n",
    "         label='Entire Wikipedia', zorder=3, alpha=0.8)\n",
    "plt.hist(nearest_neighbors['length'], 50, color='r', edgecolor='None', histtype='stepfilled', normed=True,\n",
    "         label='100 NNs of Obama (Euclidean)', zorder=10, alpha=0.8)\n",
    "plt.axvline(x=wiki['length'][wiki['name'] == 'Barack Obama'].values, color='k', linestyle='--', linewidth=4,\n",
    "           label='Length of Barack Obama', zorder=2)\n",
    "plt.axvline(x=wiki['length'][wiki['name'] == 'Joe Biden'].values, color='g', linestyle='--', linewidth=4,\n",
    "           label='Length of Joe Biden', zorder=1)\n",
    "plt.axis([0, 1000, 0, 0.04])\n",
    "\n",
    "plt.legend(loc='best', prop={'size':15})\n",
    "plt.title('Distribution of document length')\n",
    "plt.xlabel('# of words')\n",
    "plt.ylabel('Percentage')\n",
    "plt.rcParams.update({'font.size':16})\n",
    "plt.tight_layout()"
   ]
  },
  {
   "cell_type": "markdown",
   "metadata": {},
   "source": [
    "To remove this bias, we turn to **cosine distances**:\n",
    "$$\n",
    "d(\\mathbf{x},\\mathbf{y}) = 1 - \\frac{\\mathbf{x}^T\\mathbf{y}}{\\|\\mathbf{x}\\| \\|\\mathbf{y}\\|}\n",
    "$$\n",
    "Cosine distances let us compare word distributions of two articles of varying lengths.\n",
    "\n",
    "Let us train a new nearest neighbor model, this time with cosine distances.  We then repeat the search for Obama's 100 nearest neighbors."
   ]
  },
  {
   "cell_type": "code",
   "execution_count": 371,
   "metadata": {},
   "outputs": [
    {
     "data": {
      "text/plain": [
       "NearestNeighbors(algorithm='brute', leaf_size=30, metric='cosine',\n",
       "         metric_params=None, n_jobs=1, n_neighbors=5, p=2, radius=1.0)"
      ]
     },
     "execution_count": 371,
     "metadata": {},
     "output_type": "execute_result"
    }
   ],
   "source": [
    "model2_tf_idf = NearestNeighbors(metric='cosine', algorithm='brute')\n",
    "model2_tf_idf.fit(tf_idf)"
   ]
  },
  {
   "cell_type": "code",
   "execution_count": 376,
   "metadata": {},
   "outputs": [
    {
     "data": {
      "text/html": [
       "<div>\n",
       "<style>\n",
       "    .dataframe thead tr:only-child th {\n",
       "        text-align: right;\n",
       "    }\n",
       "\n",
       "    .dataframe thead th {\n",
       "        text-align: left;\n",
       "    }\n",
       "\n",
       "    .dataframe tbody tr th {\n",
       "        vertical-align: top;\n",
       "    }\n",
       "</style>\n",
       "<table border=\"1\" class=\"dataframe\">\n",
       "  <thead>\n",
       "    <tr style=\"text-align: right;\">\n",
       "      <th></th>\n",
       "      <th>dist</th>\n",
       "      <th>name</th>\n",
       "      <th>length</th>\n",
       "    </tr>\n",
       "  </thead>\n",
       "  <tbody>\n",
       "    <tr>\n",
       "      <th>0</th>\n",
       "      <td>0.000000</td>\n",
       "      <td>Barack Obama</td>\n",
       "      <td>540</td>\n",
       "    </tr>\n",
       "    <tr>\n",
       "      <th>1</th>\n",
       "      <td>0.703139</td>\n",
       "      <td>Joe Biden</td>\n",
       "      <td>414</td>\n",
       "    </tr>\n",
       "    <tr>\n",
       "      <th>2</th>\n",
       "      <td>0.742982</td>\n",
       "      <td>Samantha Power</td>\n",
       "      <td>310</td>\n",
       "    </tr>\n",
       "    <tr>\n",
       "      <th>3</th>\n",
       "      <td>0.758358</td>\n",
       "      <td>Hillary Rodham Clinton</td>\n",
       "      <td>580</td>\n",
       "    </tr>\n",
       "    <tr>\n",
       "      <th>4</th>\n",
       "      <td>0.770561</td>\n",
       "      <td>Eric Stern (politician)</td>\n",
       "      <td>255</td>\n",
       "    </tr>\n",
       "  </tbody>\n",
       "</table>\n",
       "</div>"
      ],
      "text/plain": [
       "       dist                     name  length\n",
       "0  0.000000             Barack Obama     540\n",
       "1  0.703139                Joe Biden     414\n",
       "2  0.742982           Samantha Power     310\n",
       "3  0.758358   Hillary Rodham Clinton     580\n",
       "4  0.770561  Eric Stern (politician)     255"
      ]
     },
     "execution_count": 376,
     "metadata": {},
     "output_type": "execute_result"
    }
   ],
   "source": [
    "distances, indices = model2_tf_idf.kneighbors(tf_idf[35817], n_neighbors=100)\n",
    "nearest_neighbors_names_2 = wiki['name'].iloc[indices[0]]\n",
    "nearest_neighbors_dist_2 = distances[0]\n",
    "nearest_neighbors_2 = {'dist': nearest_neighbors_dist_2, 'name': nearest_neighbors_names_2}\n",
    "nearest_neighbors_2 = pd.DataFrame(nearest_neighbors_2,\n",
    "                      columns=['dist','name'])\n",
    "nearest_neighbors_cosine = pd.DataFrame.merge(nearest_neighbors_2, wiki[['name', 'length']], on='name')\n",
    "#nearest_neighbors_cosine = wiki.join(neighbors, on='id')[['id', 'name', 'length', 'distance']].sort('distance')\n",
    "nearest_neighbors_cosine.head(5)"
   ]
  },
  {
   "cell_type": "code",
   "execution_count": 377,
   "metadata": {},
   "outputs": [
    {
     "data": {
      "text/plain": [
       "<matplotlib.figure.Figure at 0x513b8e8b38>"
      ]
     },
     "metadata": {},
     "output_type": "display_data"
    },
    {
     "data": {
      "image/png": "[encoded data removed]",
      "text/plain": [
       "<matplotlib.figure.Figure at 0x513b8e8a58>"
      ]
     },
     "metadata": {},
     "output_type": "display_data"
    }
   ],
   "source": [
    "plt.figure(figsize=(10.5,4.5))\n",
    "plt.figure(figsize=(10.5,4.5))\n",
    "plt.hist(wiki['length'], 50, color='k', edgecolor='None', histtype='stepfilled', normed=True,\n",
    "         label='Entire Wikipedia', zorder=3, alpha=0.8)\n",
    "plt.hist(nearest_neighbors['length'], 50, color='r', edgecolor='None', histtype='stepfilled', normed=True,\n",
    "         label='100 NNs of Obama (Euclidean)', zorder=10, alpha=0.8)\n",
    "plt.hist(nearest_neighbors_cosine['length'], 50, color='b', edgecolor='None', histtype='stepfilled', normed=True,\n",
    "         label='100 NNs of Obama (cosine)', zorder=11, alpha=0.8)\n",
    "plt.axvline(x=wiki['length'][wiki['name'] == 'Barack Obama'].values, color='k', linestyle='--', linewidth=4,\n",
    "           label='Length of Barack Obama', zorder=2)\n",
    "plt.axvline(x=wiki['length'][wiki['name'] == 'Joe Biden'].values, color='g', linestyle='--', linewidth=4,\n",
    "           label='Length of Joe Biden', zorder=1)\n",
    "plt.axis([0, 1000, 0, 0.04])\n",
    "plt.legend(loc='best', prop={'size':15})\n",
    "plt.title('Distribution of document length')\n",
    "plt.xlabel('# of words')\n",
    "plt.ylabel('Percentage')\n",
    "plt.rcParams.update({'font.size': 16})\n",
    "plt.tight_layout()"
   ]
  }
 ],
 "metadata": {
  "kernelspec": {
   "display_name": "Python 3",
   "language": "python",
   "name": "python3"
  },
  "language_info": {
   "codemirror_mode": {
    "name": "ipython",
    "version": 3
   },
   "file_extension": ".py",
   "mimetype": "text/x-python",
   "name": "python",
   "nbconvert_exporter": "python",
   "pygments_lexer": "ipython3",
   "version": "3.6.4"
  }
 },
 "nbformat": 4,
 "nbformat_minor": 2
}
